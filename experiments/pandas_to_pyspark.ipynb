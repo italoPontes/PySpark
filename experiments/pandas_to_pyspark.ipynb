{
 "cells": [
  {
   "cell_type": "code",
   "execution_count": 3,
   "metadata": {},
   "outputs": [
    {
     "data": {
      "text/html": [
       "<div>\n",
       "<style scoped>\n",
       "    .dataframe tbody tr th:only-of-type {\n",
       "        vertical-align: middle;\n",
       "    }\n",
       "\n",
       "    .dataframe tbody tr th {\n",
       "        vertical-align: top;\n",
       "    }\n",
       "\n",
       "    .dataframe thead th {\n",
       "        text-align: right;\n",
       "    }\n",
       "</style>\n",
       "<table border=\"1\" class=\"dataframe\">\n",
       "  <thead>\n",
       "    <tr style=\"text-align: right;\">\n",
       "      <th></th>\n",
       "      <th>NFe</th>\n",
       "      <th>Estado</th>\n",
       "      <th>Date</th>\n",
       "      <th>Item</th>\n",
       "      <th>Price</th>\n",
       "    </tr>\n",
       "  </thead>\n",
       "  <tbody>\n",
       "    <tr>\n",
       "      <th>0</th>\n",
       "      <td>39927815</td>\n",
       "      <td>SP</td>\n",
       "      <td>2024-08-25</td>\n",
       "      <td>Água</td>\n",
       "      <td>2.602000</td>\n",
       "    </tr>\n",
       "    <tr>\n",
       "      <th>1</th>\n",
       "      <td>55636513</td>\n",
       "      <td>PE</td>\n",
       "      <td>2024-10-05</td>\n",
       "      <td>Pepsi</td>\n",
       "      <td>3.860202</td>\n",
       "    </tr>\n",
       "    <tr>\n",
       "      <th>2</th>\n",
       "      <td>74046951</td>\n",
       "      <td>PB</td>\n",
       "      <td>2023-11-18</td>\n",
       "      <td>Pepsi</td>\n",
       "      <td>1.183719</td>\n",
       "    </tr>\n",
       "    <tr>\n",
       "      <th>3</th>\n",
       "      <td>65391577</td>\n",
       "      <td>SP</td>\n",
       "      <td>2023-01-29</td>\n",
       "      <td>Pepsi</td>\n",
       "      <td>4.578911</td>\n",
       "    </tr>\n",
       "    <tr>\n",
       "      <th>4</th>\n",
       "      <td>94288274</td>\n",
       "      <td>SP</td>\n",
       "      <td>2024-12-30</td>\n",
       "      <td>Pepsi</td>\n",
       "      <td>3.962679</td>\n",
       "    </tr>\n",
       "  </tbody>\n",
       "</table>\n",
       "</div>"
      ],
      "text/plain": [
       "        NFe Estado       Date   Item     Price\n",
       "0  39927815     SP 2024-08-25   Água  2.602000\n",
       "1  55636513     PE 2024-10-05  Pepsi  3.860202\n",
       "2  74046951     PB 2023-11-18  Pepsi  1.183719\n",
       "3  65391577     SP 2023-01-29  Pepsi  4.578911\n",
       "4  94288274     SP 2024-12-30  Pepsi  3.962679"
      ]
     },
     "execution_count": 3,
     "metadata": {},
     "output_type": "execute_result"
    }
   ],
   "source": [
    "import utils as ut\n",
    "\n",
    "df = ut.get_dataset(1_000_000)\n",
    "df = ut.set_dtypes(df)\n",
    "df.head()"
   ]
  },
  {
   "cell_type": "code",
   "execution_count": 5,
   "metadata": {},
   "outputs": [
    {
     "name": "stderr",
     "output_type": "stream",
     "text": [
      "/Users/italo/opt/anaconda3/envs/pyspark/lib/python3.12/site-packages/pyspark/bin/spark-class: line 71: /usr/bin/java/bin/java: Not a directory\n",
      "/Users/italo/opt/anaconda3/envs/pyspark/lib/python3.12/site-packages/pyspark/bin/spark-class: line 97: CMD: bad array subscript\n",
      "head: illegal line count -- -1\n"
     ]
    },
    {
     "ename": "PySparkRuntimeError",
     "evalue": "[JAVA_GATEWAY_EXITED] Java gateway process exited before sending its port number.",
     "output_type": "error",
     "traceback": [
      "\u001b[0;31m---------------------------------------------------------------------------\u001b[0m",
      "\u001b[0;31mPySparkRuntimeError\u001b[0m                       Traceback (most recent call last)",
      "Cell \u001b[0;32mIn[5], line 3\u001b[0m\n\u001b[1;32m      1\u001b[0m \u001b[38;5;28;01mfrom\u001b[39;00m \u001b[38;5;21;01mpyspark\u001b[39;00m\u001b[38;5;21;01m.\u001b[39;00m\u001b[38;5;21;01msql\u001b[39;00m \u001b[38;5;28;01mimport\u001b[39;00m SparkSession\n\u001b[0;32m----> 3\u001b[0m spark \u001b[38;5;241m=\u001b[39m \u001b[43mSparkSession\u001b[49m\u001b[38;5;241;43m.\u001b[39;49m\u001b[43mbuilder\u001b[49m\u001b[38;5;241;43m.\u001b[39;49m\u001b[43mgetOrCreate\u001b[49m\u001b[43m(\u001b[49m\u001b[43m)\u001b[49m\n",
      "File \u001b[0;32m~/opt/anaconda3/envs/pyspark/lib/python3.12/site-packages/pyspark/sql/session.py:497\u001b[0m, in \u001b[0;36mSparkSession.Builder.getOrCreate\u001b[0;34m(self)\u001b[0m\n\u001b[1;32m    <a href='file:///Users/italo/opt/anaconda3/envs/pyspark/lib/python3.12/site-packages/pyspark/sql/session.py?line=494'>495</a>\u001b[0m     sparkConf\u001b[39m.\u001b[39mset(key, value)\n\u001b[1;32m    <a href='file:///Users/italo/opt/anaconda3/envs/pyspark/lib/python3.12/site-packages/pyspark/sql/session.py?line=495'>496</a>\u001b[0m \u001b[39m# This SparkContext may be an existing one.\u001b[39;00m\n\u001b[0;32m--> <a href='file:///Users/italo/opt/anaconda3/envs/pyspark/lib/python3.12/site-packages/pyspark/sql/session.py?line=496'>497</a>\u001b[0m sc \u001b[39m=\u001b[39m SparkContext\u001b[39m.\u001b[39;49mgetOrCreate(sparkConf)\n\u001b[1;32m    <a href='file:///Users/italo/opt/anaconda3/envs/pyspark/lib/python3.12/site-packages/pyspark/sql/session.py?line=497'>498</a>\u001b[0m \u001b[39m# Do not update `SparkConf` for existing `SparkContext`, as it's shared\u001b[39;00m\n\u001b[1;32m    <a href='file:///Users/italo/opt/anaconda3/envs/pyspark/lib/python3.12/site-packages/pyspark/sql/session.py?line=498'>499</a>\u001b[0m \u001b[39m# by all sessions.\u001b[39;00m\n\u001b[1;32m    <a href='file:///Users/italo/opt/anaconda3/envs/pyspark/lib/python3.12/site-packages/pyspark/sql/session.py?line=499'>500</a>\u001b[0m session \u001b[39m=\u001b[39m SparkSession(sc, options\u001b[39m=\u001b[39m\u001b[39mself\u001b[39m\u001b[39m.\u001b[39m_options)\n",
      "File \u001b[0;32m~/opt/anaconda3/envs/pyspark/lib/python3.12/site-packages/pyspark/context.py:515\u001b[0m, in \u001b[0;36mSparkContext.getOrCreate\u001b[0;34m(cls, conf)\u001b[0m\n\u001b[1;32m    <a href='file:///Users/italo/opt/anaconda3/envs/pyspark/lib/python3.12/site-packages/pyspark/context.py?line=512'>513</a>\u001b[0m \u001b[39mwith\u001b[39;00m SparkContext\u001b[39m.\u001b[39m_lock:\n\u001b[1;32m    <a href='file:///Users/italo/opt/anaconda3/envs/pyspark/lib/python3.12/site-packages/pyspark/context.py?line=513'>514</a>\u001b[0m     \u001b[39mif\u001b[39;00m SparkContext\u001b[39m.\u001b[39m_active_spark_context \u001b[39mis\u001b[39;00m \u001b[39mNone\u001b[39;00m:\n\u001b[0;32m--> <a href='file:///Users/italo/opt/anaconda3/envs/pyspark/lib/python3.12/site-packages/pyspark/context.py?line=514'>515</a>\u001b[0m         SparkContext(conf\u001b[39m=\u001b[39;49mconf \u001b[39mor\u001b[39;49;00m SparkConf())\n\u001b[1;32m    <a href='file:///Users/italo/opt/anaconda3/envs/pyspark/lib/python3.12/site-packages/pyspark/context.py?line=515'>516</a>\u001b[0m     \u001b[39massert\u001b[39;00m SparkContext\u001b[39m.\u001b[39m_active_spark_context \u001b[39mis\u001b[39;00m \u001b[39mnot\u001b[39;00m \u001b[39mNone\u001b[39;00m\n\u001b[1;32m    <a href='file:///Users/italo/opt/anaconda3/envs/pyspark/lib/python3.12/site-packages/pyspark/context.py?line=516'>517</a>\u001b[0m     \u001b[39mreturn\u001b[39;00m SparkContext\u001b[39m.\u001b[39m_active_spark_context\n",
      "File \u001b[0;32m~/opt/anaconda3/envs/pyspark/lib/python3.12/site-packages/pyspark/context.py:201\u001b[0m, in \u001b[0;36mSparkContext.__init__\u001b[0;34m(self, master, appName, sparkHome, pyFiles, environment, batchSize, serializer, conf, gateway, jsc, profiler_cls, udf_profiler_cls, memory_profiler_cls)\u001b[0m\n\u001b[1;32m    <a href='file:///Users/italo/opt/anaconda3/envs/pyspark/lib/python3.12/site-packages/pyspark/context.py?line=194'>195</a>\u001b[0m \u001b[39mif\u001b[39;00m gateway \u001b[39mis\u001b[39;00m \u001b[39mnot\u001b[39;00m \u001b[39mNone\u001b[39;00m \u001b[39mand\u001b[39;00m gateway\u001b[39m.\u001b[39mgateway_parameters\u001b[39m.\u001b[39mauth_token \u001b[39mis\u001b[39;00m \u001b[39mNone\u001b[39;00m:\n\u001b[1;32m    <a href='file:///Users/italo/opt/anaconda3/envs/pyspark/lib/python3.12/site-packages/pyspark/context.py?line=195'>196</a>\u001b[0m     \u001b[39mraise\u001b[39;00m \u001b[39mValueError\u001b[39;00m(\n\u001b[1;32m    <a href='file:///Users/italo/opt/anaconda3/envs/pyspark/lib/python3.12/site-packages/pyspark/context.py?line=196'>197</a>\u001b[0m         \u001b[39m\"\u001b[39m\u001b[39mYou are trying to pass an insecure Py4j gateway to Spark. This\u001b[39m\u001b[39m\"\u001b[39m\n\u001b[1;32m    <a href='file:///Users/italo/opt/anaconda3/envs/pyspark/lib/python3.12/site-packages/pyspark/context.py?line=197'>198</a>\u001b[0m         \u001b[39m\"\u001b[39m\u001b[39m is not allowed as it is a security risk.\u001b[39m\u001b[39m\"\u001b[39m\n\u001b[1;32m    <a href='file:///Users/italo/opt/anaconda3/envs/pyspark/lib/python3.12/site-packages/pyspark/context.py?line=198'>199</a>\u001b[0m     )\n\u001b[0;32m--> <a href='file:///Users/italo/opt/anaconda3/envs/pyspark/lib/python3.12/site-packages/pyspark/context.py?line=200'>201</a>\u001b[0m SparkContext\u001b[39m.\u001b[39;49m_ensure_initialized(\u001b[39mself\u001b[39;49m, gateway\u001b[39m=\u001b[39;49mgateway, conf\u001b[39m=\u001b[39;49mconf)\n\u001b[1;32m    <a href='file:///Users/italo/opt/anaconda3/envs/pyspark/lib/python3.12/site-packages/pyspark/context.py?line=201'>202</a>\u001b[0m \u001b[39mtry\u001b[39;00m:\n\u001b[1;32m    <a href='file:///Users/italo/opt/anaconda3/envs/pyspark/lib/python3.12/site-packages/pyspark/context.py?line=202'>203</a>\u001b[0m     \u001b[39mself\u001b[39m\u001b[39m.\u001b[39m_do_init(\n\u001b[1;32m    <a href='file:///Users/italo/opt/anaconda3/envs/pyspark/lib/python3.12/site-packages/pyspark/context.py?line=203'>204</a>\u001b[0m         master,\n\u001b[1;32m    <a href='file:///Users/italo/opt/anaconda3/envs/pyspark/lib/python3.12/site-packages/pyspark/context.py?line=204'>205</a>\u001b[0m         appName,\n\u001b[0;32m   (...)\u001b[0m\n\u001b[1;32m    <a href='file:///Users/italo/opt/anaconda3/envs/pyspark/lib/python3.12/site-packages/pyspark/context.py?line=214'>215</a>\u001b[0m         memory_profiler_cls,\n\u001b[1;32m    <a href='file:///Users/italo/opt/anaconda3/envs/pyspark/lib/python3.12/site-packages/pyspark/context.py?line=215'>216</a>\u001b[0m     )\n",
      "File \u001b[0;32m~/opt/anaconda3/envs/pyspark/lib/python3.12/site-packages/pyspark/context.py:436\u001b[0m, in \u001b[0;36mSparkContext._ensure_initialized\u001b[0;34m(cls, instance, gateway, conf)\u001b[0m\n\u001b[1;32m    <a href='file:///Users/italo/opt/anaconda3/envs/pyspark/lib/python3.12/site-packages/pyspark/context.py?line=433'>434</a>\u001b[0m \u001b[39mwith\u001b[39;00m SparkContext\u001b[39m.\u001b[39m_lock:\n\u001b[1;32m    <a href='file:///Users/italo/opt/anaconda3/envs/pyspark/lib/python3.12/site-packages/pyspark/context.py?line=434'>435</a>\u001b[0m     \u001b[39mif\u001b[39;00m \u001b[39mnot\u001b[39;00m SparkContext\u001b[39m.\u001b[39m_gateway:\n\u001b[0;32m--> <a href='file:///Users/italo/opt/anaconda3/envs/pyspark/lib/python3.12/site-packages/pyspark/context.py?line=435'>436</a>\u001b[0m         SparkContext\u001b[39m.\u001b[39m_gateway \u001b[39m=\u001b[39m gateway \u001b[39mor\u001b[39;00m launch_gateway(conf)\n\u001b[1;32m    <a href='file:///Users/italo/opt/anaconda3/envs/pyspark/lib/python3.12/site-packages/pyspark/context.py?line=436'>437</a>\u001b[0m         SparkContext\u001b[39m.\u001b[39m_jvm \u001b[39m=\u001b[39m SparkContext\u001b[39m.\u001b[39m_gateway\u001b[39m.\u001b[39mjvm\n\u001b[1;32m    <a href='file:///Users/italo/opt/anaconda3/envs/pyspark/lib/python3.12/site-packages/pyspark/context.py?line=438'>439</a>\u001b[0m     \u001b[39mif\u001b[39;00m instance:\n",
      "File \u001b[0;32m~/opt/anaconda3/envs/pyspark/lib/python3.12/site-packages/pyspark/java_gateway.py:107\u001b[0m, in \u001b[0;36mlaunch_gateway\u001b[0;34m(conf, popen_kwargs)\u001b[0m\n\u001b[1;32m    <a href='file:///Users/italo/opt/anaconda3/envs/pyspark/lib/python3.12/site-packages/pyspark/java_gateway.py?line=103'>104</a>\u001b[0m     time\u001b[39m.\u001b[39msleep(\u001b[39m0.1\u001b[39m)\n\u001b[1;32m    <a href='file:///Users/italo/opt/anaconda3/envs/pyspark/lib/python3.12/site-packages/pyspark/java_gateway.py?line=105'>106</a>\u001b[0m \u001b[39mif\u001b[39;00m \u001b[39mnot\u001b[39;00m os\u001b[39m.\u001b[39mpath\u001b[39m.\u001b[39misfile(conn_info_file):\n\u001b[0;32m--> <a href='file:///Users/italo/opt/anaconda3/envs/pyspark/lib/python3.12/site-packages/pyspark/java_gateway.py?line=106'>107</a>\u001b[0m     \u001b[39mraise\u001b[39;00m PySparkRuntimeError(\n\u001b[1;32m    <a href='file:///Users/italo/opt/anaconda3/envs/pyspark/lib/python3.12/site-packages/pyspark/java_gateway.py?line=107'>108</a>\u001b[0m         error_class\u001b[39m=\u001b[39m\u001b[39m\"\u001b[39m\u001b[39mJAVA_GATEWAY_EXITED\u001b[39m\u001b[39m\"\u001b[39m,\n\u001b[1;32m    <a href='file:///Users/italo/opt/anaconda3/envs/pyspark/lib/python3.12/site-packages/pyspark/java_gateway.py?line=108'>109</a>\u001b[0m         message_parameters\u001b[39m=\u001b[39m{},\n\u001b[1;32m    <a href='file:///Users/italo/opt/anaconda3/envs/pyspark/lib/python3.12/site-packages/pyspark/java_gateway.py?line=109'>110</a>\u001b[0m     )\n\u001b[1;32m    <a href='file:///Users/italo/opt/anaconda3/envs/pyspark/lib/python3.12/site-packages/pyspark/java_gateway.py?line=111'>112</a>\u001b[0m \u001b[39mwith\u001b[39;00m \u001b[39mopen\u001b[39m(conn_info_file, \u001b[39m\"\u001b[39m\u001b[39mrb\u001b[39m\u001b[39m\"\u001b[39m) \u001b[39mas\u001b[39;00m info:\n\u001b[1;32m    <a href='file:///Users/italo/opt/anaconda3/envs/pyspark/lib/python3.12/site-packages/pyspark/java_gateway.py?line=112'>113</a>\u001b[0m     gateway_port \u001b[39m=\u001b[39m read_int(info)\n",
      "\u001b[0;31mPySparkRuntimeError\u001b[0m: [JAVA_GATEWAY_EXITED] Java gateway process exited before sending its port number."
     ]
    }
   ],
   "source": [
    "from pyspark.sql import SparkSession\n",
    "\n",
    "spark = SparkSession.builder.getOrCreate()"
   ]
  },
  {
   "cell_type": "code",
   "execution_count": null,
   "metadata": {},
   "outputs": [],
   "source": []
  }
 ],
 "metadata": {
  "interpreter": {
   "hash": "d9417ff5a905aea22ab4b3f97899a3d44d8532ac1067ba5e36222c1ed291a5fe"
  },
  "kernelspec": {
   "display_name": "Python 3.12.2 64-bit ('pyspark')",
   "language": "python",
   "name": "python3"
  },
  "language_info": {
   "codemirror_mode": {
    "name": "ipython",
    "version": 3
   },
   "file_extension": ".py",
   "mimetype": "text/x-python",
   "name": "python",
   "nbconvert_exporter": "python",
   "pygments_lexer": "ipython3",
   "version": "3.12.2"
  },
  "orig_nbformat": 4
 },
 "nbformat": 4,
 "nbformat_minor": 2
}

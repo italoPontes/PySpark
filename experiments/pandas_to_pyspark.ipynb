{
 "cells": [
  {
   "cell_type": "code",
   "execution_count": 17,
   "metadata": {},
   "outputs": [
    {
     "data": {
      "text/html": [
       "<div>\n",
       "<style scoped>\n",
       "    .dataframe tbody tr th:only-of-type {\n",
       "        vertical-align: middle;\n",
       "    }\n",
       "\n",
       "    .dataframe tbody tr th {\n",
       "        vertical-align: top;\n",
       "    }\n",
       "\n",
       "    .dataframe thead th {\n",
       "        text-align: right;\n",
       "    }\n",
       "</style>\n",
       "<table border=\"1\" class=\"dataframe\">\n",
       "  <thead>\n",
       "    <tr style=\"text-align: right;\">\n",
       "      <th></th>\n",
       "      <th>NFe</th>\n",
       "      <th>Estado</th>\n",
       "      <th>Date</th>\n",
       "      <th>Item</th>\n",
       "      <th>Price</th>\n",
       "    </tr>\n",
       "  </thead>\n",
       "  <tbody>\n",
       "    <tr>\n",
       "      <th>0</th>\n",
       "      <td>81117358</td>\n",
       "      <td>PB</td>\n",
       "      <td>2024-10-06</td>\n",
       "      <td>Coca-Cola</td>\n",
       "      <td>2.037076</td>\n",
       "    </tr>\n",
       "    <tr>\n",
       "      <th>1</th>\n",
       "      <td>11285947</td>\n",
       "      <td>PB</td>\n",
       "      <td>2023-10-14</td>\n",
       "      <td>Água</td>\n",
       "      <td>1.951559</td>\n",
       "    </tr>\n",
       "    <tr>\n",
       "      <th>2</th>\n",
       "      <td>66373163</td>\n",
       "      <td>PB</td>\n",
       "      <td>2024-11-29</td>\n",
       "      <td>Coca-Cola</td>\n",
       "      <td>2.088073</td>\n",
       "    </tr>\n",
       "    <tr>\n",
       "      <th>3</th>\n",
       "      <td>82414798</td>\n",
       "      <td>SP</td>\n",
       "      <td>2024-06-03</td>\n",
       "      <td>Coca-Cola</td>\n",
       "      <td>4.777613</td>\n",
       "    </tr>\n",
       "    <tr>\n",
       "      <th>4</th>\n",
       "      <td>19910007</td>\n",
       "      <td>SP</td>\n",
       "      <td>2023-01-13</td>\n",
       "      <td>Pepsi</td>\n",
       "      <td>3.498621</td>\n",
       "    </tr>\n",
       "  </tbody>\n",
       "</table>\n",
       "</div>"
      ],
      "text/plain": [
       "        NFe Estado       Date       Item     Price\n",
       "0  81117358     PB 2024-10-06  Coca-Cola  2.037076\n",
       "1  11285947     PB 2023-10-14       Água  1.951559\n",
       "2  66373163     PB 2024-11-29  Coca-Cola  2.088073\n",
       "3  82414798     SP 2024-06-03  Coca-Cola  4.777613\n",
       "4  19910007     SP 2023-01-13      Pepsi  3.498621"
      ]
     },
     "execution_count": 17,
     "metadata": {},
     "output_type": "execute_result"
    }
   ],
   "source": [
    "import utils as ut\n",
    "\n",
    "df = ut.get_dataset(1_000_000)\n",
    "df = ut.set_dtypes(df)\n",
    "df.head()"
   ]
  },
  {
   "cell_type": "code",
   "execution_count": 18,
   "metadata": {},
   "outputs": [],
   "source": [
    "filename = \"../data/df.parquet\"\n",
    "df.to_parquet(filename, index=False)"
   ]
  },
  {
   "cell_type": "code",
   "execution_count": 19,
   "metadata": {},
   "outputs": [],
   "source": [
    "from pyspark.sql import SparkSession\n",
    "\n",
    "spark = SparkSession.builder \\\n",
    "    .appName(\"Exemplo de leitura de Parquet com PySpark\") \\\n",
    "    .getOrCreate()"
   ]
  },
  {
   "cell_type": "code",
   "execution_count": null,
   "metadata": {},
   "outputs": [],
   "source": []
  }
 ],
 "metadata": {
  "interpreter": {
   "hash": "d9417ff5a905aea22ab4b3f97899a3d44d8532ac1067ba5e36222c1ed291a5fe"
  },
  "kernelspec": {
   "display_name": "Python 3.12.2 64-bit ('pyspark')",
   "language": "python",
   "name": "python3"
  },
  "language_info": {
   "codemirror_mode": {
    "name": "ipython",
    "version": 3
   },
   "file_extension": ".py",
   "mimetype": "text/x-python",
   "name": "python",
   "nbconvert_exporter": "python",
   "pygments_lexer": "ipython3",
   "version": "3.12.2"
  },
  "orig_nbformat": 4
 },
 "nbformat": 4,
 "nbformat_minor": 2
}
